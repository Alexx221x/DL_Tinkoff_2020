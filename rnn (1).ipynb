{
  "nbformat": 4,
  "nbformat_minor": 0,
  "metadata": {
    "colab": {
      "name": "rnn.ipynb",
      "provenance": [],
      "collapsed_sections": []
    },
    "kernelspec": {
      "display_name": "Python 3",
      "language": "python",
      "name": "python3"
    }
  },
  "cells": [
    {
      "cell_type": "code",
      "metadata": {
        "id": "HXd4o-HZkHQN"
      },
      "source": [
        "import torch\n",
        "import torch.nn as nn\n",
        "import torch.nn.functional as F\n",
        "import os\n",
        "import numpy as np"
      ],
      "execution_count": null,
      "outputs": []
    },
    {
      "cell_type": "code",
      "metadata": {
        "id": "dSkcPzlokHQW"
      },
      "source": [
        "class RNN(nn.Module):\n",
        "    def __init__(self, input_size, hidden_size):\n",
        "        super().__init__()\n",
        "\n",
        "        self.hidden_size = hidden_size\n",
        "        self.W = nn.Linear(input_size+hidden_size,hidden_size)\n",
        "        self.T = nn.Tanh()\n",
        "\n",
        "    def forward(self, input_data, hidden):\n",
        "        A = self.W.forward(torch.cat([input_data,hidden],1))\n",
        "        hidden = self.T(A)\n",
        "        return hidden\n",
        "\n",
        "    def init_hidden(self,batch_size):\n",
        "        return torch.zeros(batch_size, self.hidden_size)"
      ],
      "execution_count": null,
      "outputs": []
    },
    {
      "cell_type": "code",
      "metadata": {
        "id": "w9n3gNkPkHQY"
      },
      "source": [
        "input_feature_size = 6\n",
        "hidden_size=5\n",
        "batch_size=3"
      ],
      "execution_count": null,
      "outputs": []
    },
    {
      "cell_type": "code",
      "metadata": {
        "id": "2rqMgLsqkHQd"
      },
      "source": [
        "rnn = RNN(input_size=input_feature_size, hidden_size=hidden_size)\n",
        "initial_hidden = rnn.init_hidden(batch_size)"
      ],
      "execution_count": null,
      "outputs": []
    },
    {
      "cell_type": "code",
      "metadata": {
        "id": "ZssjzwGDkHQg"
      },
      "source": [
        "input_example = torch.rand([batch_size, input_feature_size])\n",
        "new_hidden = rnn(input_example, initial_hidden)"
      ],
      "execution_count": null,
      "outputs": []
    },
    {
      "cell_type": "code",
      "metadata": {
        "colab": {
          "base_uri": "https://localhost:8080/"
        },
        "id": "QdiE8vn-kHQi",
        "outputId": "991c3151-9fd5-4529-fa4e-a26bcd708374"
      },
      "source": [
        "print(new_hidden.shape)"
      ],
      "execution_count": null,
      "outputs": [
        {
          "output_type": "stream",
          "text": [
            "torch.Size([3, 5])\n"
          ],
          "name": "stdout"
        }
      ]
    },
    {
      "cell_type": "code",
      "metadata": {
        "colab": {
          "base_uri": "https://localhost:8080/"
        },
        "id": "Io1NEsIKkHQm",
        "outputId": "7871eb61-a865-4e6f-c013-e3004f3805b6"
      },
      "source": [
        "print(\"initial_hidden: \", initial_hidden.numpy())\n",
        "print(\"new_hidden: \", new_hidden.detach().numpy())"
      ],
      "execution_count": null,
      "outputs": [
        {
          "output_type": "stream",
          "text": [
            "initial_hidden:  [[0. 0. 0. 0. 0.]\n",
            " [0. 0. 0. 0. 0.]\n",
            " [0. 0. 0. 0. 0.]]\n",
            "new_hidden:  [[ 0.29889157 -0.2717526   0.19512768 -0.4985185   0.04524643]\n",
            " [ 0.5091424  -0.29833162  0.00409273 -0.55591375  0.202631  ]\n",
            " [ 0.29075027 -0.20476004  0.15622436 -0.4620644   0.07025383]]\n"
          ],
          "name": "stdout"
        }
      ]
    },
    {
      "cell_type": "code",
      "metadata": {
        "colab": {
          "base_uri": "https://localhost:8080/"
        },
        "id": "hIwKBaQWkHQo",
        "outputId": "2aaf3296-b824-4a01-fffa-feb513198495"
      },
      "source": [
        "new_hidden = rnn(input_example, new_hidden)\n",
        "print(\"new_hidden: \", new_hidden.detach().numpy())"
      ],
      "execution_count": null,
      "outputs": [
        {
          "output_type": "stream",
          "text": [
            "new_hidden:  [[ 0.20944685 -0.28358486  0.28809604 -0.50481653 -0.1184712 ]\n",
            " [ 0.40492687 -0.32267284  0.09607754 -0.59119415  0.03830349]\n",
            " [ 0.21215498 -0.21051574  0.22895446 -0.4758424  -0.07062721]]\n"
          ],
          "name": "stdout"
        }
      ]
    },
    {
      "cell_type": "code",
      "metadata": {
        "id": "xaQ0QhgfkHQt"
      },
      "source": [
        "!mkdir data"
      ],
      "execution_count": null,
      "outputs": []
    },
    {
      "cell_type": "code",
      "metadata": {
        "id": "_ahhqfzgkHQw"
      },
      "source": [
        "import torchvision\n",
        "import torchvision.transforms as transforms\n",
        "\n",
        "BATCH_SIZE = 64\n",
        "\n",
        "transform = transforms.Compose(\n",
        "    [transforms.ToTensor()])\n",
        "\n",
        "trainset = torchvision.datasets.MNIST(root='./data', train=True,\n",
        "                                      download=True, transform=transform)\n",
        "\n",
        "testset = torchvision.datasets.MNIST(root='./data', train=False,\n",
        "                                     download=True, transform=transform)\n",
        "\n",
        "trainloader = torch.utils.data.DataLoader(trainset, batch_size=BATCH_SIZE,\n",
        "                                          shuffle=True, num_workers=2)\n",
        "\n",
        "testloader = torch.utils.data.DataLoader(testset, batch_size=BATCH_SIZE,\n",
        "                                         shuffle=False, num_workers=2)"
      ],
      "execution_count": null,
      "outputs": []
    },
    {
      "cell_type": "code",
      "metadata": {
        "colab": {
          "base_uri": "https://localhost:8080/"
        },
        "id": "zb3byVwpkHQz",
        "outputId": "181c3594-6c53-4da6-94e6-c714913bd654"
      },
      "source": [
        "!ls -lh data/"
      ],
      "execution_count": null,
      "outputs": [
        {
          "output_type": "stream",
          "text": [
            "total 4.0K\n",
            "drwxr-xr-x 4 root root 4.0K Dec 28 20:50 MNIST\n"
          ],
          "name": "stdout"
        }
      ]
    },
    {
      "cell_type": "code",
      "metadata": {
        "colab": {
          "base_uri": "https://localhost:8080/",
          "height": 287
        },
        "id": "wVCuLHrmkHQ4",
        "outputId": "65b88f29-22df-450e-9e8b-f0f46cf6b50b"
      },
      "source": [
        "%pylab inline\n",
        "import numpy as np\n",
        "\n",
        "def imshow(img):\n",
        "    #img = img / 2 + 0.5     # unnormalize\n",
        "    npimg = img.numpy()\n",
        "    plt.imshow(np.transpose(npimg, (1, 2, 0)))\n",
        "\n",
        "# get some random training images\n",
        "dataiter = iter(trainloader)\n",
        "images, labels = dataiter.next()\n",
        "\n",
        "# show images\n",
        "imshow(torchvision.utils.make_grid(images))"
      ],
      "execution_count": null,
      "outputs": [
        {
          "output_type": "stream",
          "text": [
            "Populating the interactive namespace from numpy and matplotlib\n"
          ],
          "name": "stdout"
        },
        {
          "output_type": "display_data",
          "data": {
            "image/png": "[encoded data removed]",
            "text/plain": [
              "<Figure size 432x288 with 1 Axes>"
            ]
          },
          "metadata": {
            "tags": []
          }
        }
      ]
    },
    {
      "cell_type": "code",
      "metadata": {
        "id": "uZ2UZw8vkHQ-"
      },
      "source": [
        "class ImageRNN(nn.Module):\n",
        "    def __init__(self, batch_size, n_steps, n_inputs, n_neurons, n_outputs):\n",
        "        super().__init__()\n",
        "        \n",
        "        self.n_neurons = n_neurons\n",
        "        self.batch_size = batch_size\n",
        "        self.n_steps = n_steps\n",
        "        self.n_inputs = n_inputs\n",
        "        self.n_outputs = n_outputs\n",
        "        \n",
        "        self.basic_rnn = nn.RNN(self.n_inputs, self.n_neurons) \n",
        "        \n",
        "        self.FC = nn.Linear(self.n_neurons, self.n_outputs)\n",
        "        \n",
        "    def init_hidden(self,):\n",
        "        return (torch.zeros(1, self.batch_size, self.n_neurons))\n",
        "        \n",
        "    def forward(self, X):\n",
        "        X = X.permute(1, 0, 2) \n",
        "        \n",
        "        self.batch_size = X.size(1)\n",
        "        self.hidden = self.init_hidden()\n",
        "        \n",
        "        lstm_out, self.hidden = self.basic_rnn(X, self.hidden)      \n",
        "        out = self.FC(self.hidden)\n",
        "        \n",
        "        return out.view(-1, self.n_outputs)"
      ],
      "execution_count": null,
      "outputs": []
    },
    {
      "cell_type": "code",
      "metadata": {
        "id": "8FZWcJTokHRB"
      },
      "source": [
        "N_STEPS = 28\n",
        "N_INPUTS = 28\n",
        "N_NEURONS = 150\n",
        "N_OUTPUTS = 10\n",
        "N_EPHOCS = 10"
      ],
      "execution_count": null,
      "outputs": []
    },
    {
      "cell_type": "code",
      "metadata": {
        "colab": {
          "base_uri": "https://localhost:8080/"
        },
        "id": "bLaGmqMnkHRE",
        "outputId": "9f482c15-6d9b-44a3-c459-238e3d3dce6f"
      },
      "source": [
        "dataiter = iter(trainloader)\n",
        "images, labels = dataiter.next()\n",
        "model = ImageRNN(BATCH_SIZE, N_STEPS, N_INPUTS, N_NEURONS, N_OUTPUTS)\n",
        "logits = model(images.view(-1, 28,28))\n",
        "print(logits[0:10])"
      ],
      "execution_count": null,
      "outputs": [
        {
          "output_type": "stream",
          "text": [
            "tensor([[-0.0538,  0.0955,  0.0176, -0.0149,  0.0690, -0.0339,  0.0106,  0.0784,\n",
            "          0.1041, -0.0267],\n",
            "        [-0.0447,  0.1030,  0.0244, -0.0169,  0.0686, -0.0263,  0.0035,  0.0794,\n",
            "          0.0970, -0.0261],\n",
            "        [-0.0353,  0.1009,  0.0120, -0.0175,  0.0644, -0.0289,  0.0115,  0.0822,\n",
            "          0.1151, -0.0369],\n",
            "        [-0.0457,  0.0997,  0.0203, -0.0251,  0.0687, -0.0339,  0.0098,  0.0857,\n",
            "          0.1049, -0.0295],\n",
            "        [-0.0472,  0.0980,  0.0181, -0.0213,  0.0696, -0.0360,  0.0106,  0.0835,\n",
            "          0.1031, -0.0278],\n",
            "        [-0.0502,  0.1003,  0.0176, -0.0233,  0.0695, -0.0339,  0.0091,  0.0783,\n",
            "          0.0994, -0.0280],\n",
            "        [-0.0482,  0.1013,  0.0172, -0.0233,  0.0697, -0.0364,  0.0122,  0.0815,\n",
            "          0.0992, -0.0246],\n",
            "        [-0.0735,  0.1069,  0.0531, -0.0187,  0.0674, -0.0271,  0.0095,  0.0833,\n",
            "          0.1108, -0.0357],\n",
            "        [-0.0203,  0.1045, -0.0441, -0.0360,  0.0671, -0.0485,  0.0019,  0.0857,\n",
            "          0.0941, -0.0358],\n",
            "        [-0.0381,  0.0765,  0.0241, -0.0191,  0.0657, -0.0403,  0.0032,  0.0601,\n",
            "          0.0903, -0.0110]], grad_fn=<SliceBackward>)\n"
          ],
          "name": "stdout"
        }
      ]
    },
    {
      "cell_type": "markdown",
      "metadata": {
        "id": "snsRIyjtkHRJ"
      },
      "source": [
        "## Обучаем"
      ]
    },
    {
      "cell_type": "code",
      "metadata": {
        "id": "bDAvHQlTkHRK"
      },
      "source": [
        "import torch.optim as optim\n",
        "\n",
        "device = torch.device(\"cuda:0\" if torch.cuda.is_available() else \"cpu\")\n",
        "\n",
        "model = ImageRNN(BATCH_SIZE, N_STEPS, N_INPUTS, N_NEURONS, N_OUTPUTS)\n",
        "criterion = nn.CrossEntropyLoss()\n",
        "optimizer = optim.Adam(model.parameters(), lr=0.001)\n",
        "\n",
        "def get_accuracy(logit, target, batch_size):\n",
        "    ''' Obtain accuracy for training round '''\n",
        "    corrects = (torch.max(logit, 1)[1].view(target.size()).data == target.data).sum()\n",
        "    accuracy = 100.0 * corrects/batch_size\n",
        "    return accuracy.item()"
      ],
      "execution_count": null,
      "outputs": []
    },
    {
      "cell_type": "code",
      "metadata": {
        "id": "Flff1olHkHRN"
      },
      "source": [
        "for epoch in range(N_EPHOCS):\n",
        "    train_running_loss = 0.0\n",
        "    train_acc = 0.0\n",
        "    model.train()\n",
        "    \n",
        "    # TRAINING ROUND\n",
        "    for i, data in enumerate(trainloader):\n",
        "         # zero the parameter gradients\n",
        "        optimizer.zero_grad()\n",
        "        \n",
        "        # reset hidden states\n",
        "        model.hidden = model.init_hidden() \n",
        "        \n",
        "        # get the inputs\n",
        "        inputs, labels = data\n",
        "        inputs = inputs.view(-1, 28,28) \n",
        "\n",
        "        # forward + backward + optimize\n",
        "        outputs = model(inputs)\n",
        "\n",
        "        loss = criterion(outputs, labels)\n",
        "        loss.backward()\n",
        "        optimizer.step()\n",
        "\n",
        "        train_running_loss += loss.detach().item()\n",
        "        train_acc += get_accuracy(outputs, labels, BATCH_SIZE)\n",
        "         \n",
        "    model.eval()\n",
        "    print('Epoch:  %d | Loss: %.4f | Train Accuracy: %.2f' \n",
        "          %(epoch, train_running_loss / i, train_acc/i))"
      ],
      "execution_count": null,
      "outputs": []
    },
    {
      "cell_type": "code",
      "metadata": {
        "colab": {
          "base_uri": "https://localhost:8080/"
        },
        "id": "6j98n0YbkHRT",
        "outputId": "0e45f3d7-8855-4a84-ba87-13b97c451bb0"
      },
      "source": [
        "test_acc = 0.0\n",
        "for i, data in enumerate(testloader, 0):\n",
        "    inputs, labels = data\n",
        "    inputs = inputs.view(-1, 28, 28)\n",
        "    outputs = model(inputs) \n",
        "    test_acc += get_accuracy(outputs, labels, BATCH_SIZE)\n",
        "        \n",
        "print('Test Accuracy: %.2f'%( test_acc/i))"
      ],
      "execution_count": null,
      "outputs": [
        {
          "output_type": "stream",
          "text": [
            "Test Accuracy: 95.93\n"
          ],
          "name": "stdout"
        }
      ]
    },
    {
      "cell_type": "code",
      "metadata": {
        "id": "-jprChrLiWAh"
      },
      "source": [
        "!pip install torchtext\n",
        "!python -m spacy download en"
      ],
      "execution_count": null,
      "outputs": []
    },
    {
      "cell_type": "code",
      "metadata": {
        "id": "vpiI5vjUkHRW"
      },
      "source": [
        "import torch\n",
        "import torch.optim as optim\n",
        "from torchtext import data\n",
        "from torch.nn.utils.rnn import pack_padded_sequence\n",
        "from torch.nn.utils.rnn import pad_packed_sequence\n",
        "\n",
        "SEED = 1234\n",
        "\n",
        "torch.manual_seed(SEED)\n",
        "torch.cuda.manual_seed(SEED)\n",
        "torch.backends.cudnn.deterministic = True\n",
        "\n",
        "TEXT = data.Field(tokenize='spacy',include_lengths=True)\n",
        "LABEL = data.LabelField(dtype=torch.float)"
      ],
      "execution_count": null,
      "outputs": []
    },
    {
      "cell_type": "code",
      "metadata": {
        "id": "MOCZ7pthkHRY"
      },
      "source": [
        "from torchtext import datasets\n",
        "train_data, test_data = datasets.IMDB.splits(TEXT, LABEL, root=\"./data\")"
      ],
      "execution_count": null,
      "outputs": []
    },
    {
      "cell_type": "code",
      "metadata": {
        "colab": {
          "base_uri": "https://localhost:8080/"
        },
        "id": "KPHUYfw2kHRb",
        "outputId": "1044c3ef-f234-4452-a859-b47c315278c1"
      },
      "source": [
        "ls -lh data/imdb/aclImdb/"
      ],
      "execution_count": null,
      "outputs": [
        {
          "output_type": "stream",
          "text": [
            "total 1.7M\n",
            "-rw-r--r-- 1 7297 1000 882K Jun 11  2011 imdbEr.txt\n",
            "-rw-r--r-- 1 7297 1000 827K Apr 12  2011 imdb.vocab\n",
            "-rw-r--r-- 1 7297 1000 4.0K Jun 26  2011 README\n",
            "drwxr-xr-x 4 7297 1000 4.0K Apr 12  2011 \u001b[0m\u001b[01;34mtest\u001b[0m/\n",
            "drwxr-xr-x 5 7297 1000 4.0K Jun 26  2011 \u001b[01;34mtrain\u001b[0m/\n"
          ],
          "name": "stdout"
        }
      ]
    },
    {
      "cell_type": "code",
      "metadata": {
        "colab": {
          "base_uri": "https://localhost:8080/"
        },
        "id": "U3Ow6Q3okHRf",
        "outputId": "40fa599c-2c30-4d10-d38c-e961c11d87bb"
      },
      "source": [
        "print(f'Number of training examples: {len(train_data)}')\n",
        "print(f'Number of testing examples: {len(test_data)}')"
      ],
      "execution_count": null,
      "outputs": [
        {
          "output_type": "stream",
          "text": [
            "Number of training examples: 25000\n",
            "Number of testing examples: 25000\n"
          ],
          "name": "stdout"
        }
      ]
    },
    {
      "cell_type": "code",
      "metadata": {
        "colab": {
          "base_uri": "https://localhost:8080/"
        },
        "id": "zQquyqCEkHRk",
        "outputId": "3685c50d-02a9-4b4f-e9d3-2b5792ec7e82"
      },
      "source": [
        "print(vars(train_data.examples[0]))"
      ],
      "execution_count": null,
      "outputs": [
        {
          "output_type": "stream",
          "text": [
            "{'text': ['Yesterday', ',', 'I', 'went', 'to', 'the', 'monthly', 'Antique', 'Flea', 'Market', 'that', 'comes', 'to', 'town', '.', 'I', 'really', 'have', 'no', 'interest', 'in', 'such', 'things', ',', 'but', 'I', 'went', 'for', 'the', 'fellowship', 'of', 'friends', 'who', 'do', 'have', 'such', 'an', 'interest', '.', 'Looking', 'over', 'the', 'hundreds', 'of', 'vendor', ',', 'passing', 'many', 'of', 'them', 'quickly', ',', 'I', 'spotted', 'someone', 'selling', 'VHS', 'tapes', 'and', 'DVDs', '.', 'Most', 'of', 'the', 'films', 'he', 'had', 'on', 'DVD', 'were', 'rather', 'recent', ';', 'the', 'oldest', 'one', 'I', 'noticed', 'was', 'the', '1940', 'Cary', 'Grant', '-', 'Irene', 'Dunne', 'co', '-', 'starrer', 'MY', 'FAVORITE', 'WIFE', '.', 'But', 'the', 'VHS', 'tapes', ',', 'by', 'their', 'nature', ',', 'were', 'mostly', 'older', 'films', '.', 'I', 'could', \"n't\", 'resist', 'buying', 'SOMETHING', 'since', 'they', 'were', 'being', 'sold', 'at', '3', 'tapes', 'for', '$', '10.00', '.', 'What', 'a', 'bargain', ',', 'as', 'Eddie', 'Murphy', 'used', 'to', 'say', '.', 'I', 'came', 'across', 'one', 'film', 'that', 'I', 'had', 'heard', 'about', 'for', 'years', 'but', 'had', 'never', 'seen', ':', 'John', 'Cassavettes', \"'s\", 'OPENING', 'NIGHT', '(', '1977', ')', '.', 'Well', ',', 'I', 'certainly', 'wanted', 'that', 'being', 'a', 'fan', 'of', 'Gena', 'Rowlands', ',', 'and', 'I', 'had', 'heard', 'that', 'this', 'film', 'contained', 'one', 'of', 'her', 'finest', 'performances', '.', 'He', 'also', 'had', 'FACES', '(', '1968', ')', '.', 'I', 'had', 'seen', 'this', 'about', '20', 'years', 'ago', ',', 'a', 'time', 'when', 'I', 'probably', 'had', 'not', 'had', 'enough', 'life', 'experience', 'to', 'appreciate', 'it', 'thoroughly', '.', 'And', 'I', 'wanted', 'to', 'take', 'advantage', 'of', 'the', 'bargain', ',', 'so', 'I', 'grabbed', 'that', 'one', 'too', '.', 'My', 'other', 'choice', 'was', 'CLAIRE', \"'S\", 'KNEE', '(', '1970', ')', '.', '<', 'br', '/><br', '/>When', 'I', 'got', 'home', ',', 'I', 'decided', 'to', 'put', 'aside', 'the', 'work', 'I', 'had', 'planned', 'to', 'do', 'so', 'that', 'I', 'could', 'watch', 'OPENING', 'NIGHT', '.', 'I', 'was', 'totally', 'enthralled', 'by', 'this', 'film', '.', 'It', 'focuses', 'on', 'Myrtle', 'Gordon', '(', 'Gena', 'Rowlands', ')', ',', 'a', 'famous', 'actress', 'of', 'stage', 'and', 'screen', ',', 'who', ',', 'during', 'out', '-', 'of', '-', 'town', 'previews', ',', 'is', 'having', 'personal', 'and', 'professional', 'problems', 'coming', 'to', 'terms', 'with', 'both', 'her', 'character', 'and', 'the', 'play', \"'s\", 'theme', 'of', 'facing', 'aging', '.', 'After', 'one', 'rehearsal', ',', 'an', 'avid', 'fan', 'and', 'autograph', 'hound', 'accosts', 'her', 'with', 'cries', '(', 'and', 'tears', ')', 'of', '\"', 'I', 'love', 'you', '!', 'I', 'love', 'you', '!', '\"', 'A', 'few', 'minutes', 'later', ',', 'this', 'fan', 'is', 'hit', 'by', 'a', 'car', 'and', 'killed', '.', 'This', 'begins', 'Myrtle', \"'s\", 'descent', 'into', 'herself', 'where', 'she', 'must', 'face', 'her', 'own', 'fears', 'of', 'aging', ',', 'the', 'future', 'of', 'her', 'career', 'as', 'a', 'mature', 'actress', ',', 'and', 'the', 'inadequacies', 'she', 'finds', 'in', 'the', 'play', 'itself', '(', 'written', 'by', 'a', 'much', 'older', 'female', 'dramatist', ',', 'played', 'by', 'Joan', 'Blondell', ')', '.', 'Throughout', 'the', 'film', ',', 'she', 'sees', 'the', 'dead', 'girl', ',', 'an', 'obvious', 'symbol', 'of', 'her', 'past', ';', 'drinks', 'almost', 'constantly', ';', 'and', 'receives', 'insincere', 'support', 'from', 'her', 'director', '(', 'Ben', 'Gazzara', ')', ',', 'the', 'producer', '(', 'Paul', 'Stewart', ')', ',', 'her', 'costar', '(', 'John', 'Cassavettes', 'himself', ')', ',', 'and', 'the', 'dramatist', '.', 'Actually', ',', 'they', \"'re\", 'more', 'concerned', 'about', 'how', 'her', 'behavior', 'will', 'affect', 'them', 'and', 'their', 'careers', ':', 'flubbing', 'lines', 'on', 'stage', ',', 'improvising', 'new', 'lines', ',', 'generally', 'cracking', 'up', 'on', 'stage', ',', 'and', 'arriving', 'for', 'the', 'Broadway', 'opening', 'totally', 'drunk', '.', '<', 'br', '/><br', '/>This', 'story', 'functions', 'not', 'only', 'to', 'address', 'the', 'issues', 'of', 'aging', 'but', 'also', 'to', 'promote', 'Cassavettes', \"'s\", 'displeasure', 'with', 'mainstream', 'movie', '-', 'making', '.', 'As', 'I', 'watched', 'the', 'film', ',', 'I', 'was', 'at', 'times', 'surprised', ',', 'confused', ',', 'amused', ',', 'disparaging', ',', 'but', 'ultimately', 'involved', ',', 'entertained', ',', 'and', 'satisfied', '.', 'Cassavettes', 'really', 'had', 'a', 'great', 'sense', 'of', 'humor', ',', 'cared', 'very', 'much', 'that', 'his', 'audience', 'understood', 'what', 'he', 'was', 'implying', ',', 'and', 'wanted', 'them', 'to', 'be', 'emotionally', 'involved', 'in', 'the', 'story', '.', 'He', 'makes', 'allusions', 'to', 'ALL', 'ABOUT', 'EVE', 'with', 'the', 'use', 'of', 'the', 'avid', 'theater', 'fan', ',', 'even', 'dressing', 'the', 'young', 'girl', 'in', 'a', 'slicker', 'and', 'hat', 'similar', 'to', 'the', 'one', 'worn', 'by', 'Anne', 'Baxter', 'at', 'the', 'beginning', 'of', 'that', 'film', '.', 'This', 'allusion', 'functions', 'most', 'obviously', 'to', 'support', 'his', 'aging', 'theme', ',', 'the', 'contrast', 'of', 'the', 'older', 'and', 'younger', 'woman', '.', 'He', 'also', 'obviously', 'uses', 'the', 'contrast', 'as', 'a', 'symbol', 'for', 'Myrtle', \"'s\", 'confronting', 'her', 'own', 'lost', 'youth', '.', 'At', 'first', ',', 'I', 'felt', 'the', 'symbolism', 'was', 'TOO', 'obvious', ',', 'but', 'then', 'I', 'realized', 'that', 'that', 'was', 'Cassavettes', \"'s\", 'intention', '.', 'He', 'does', \"n't\", 'want', 'his', 'audience', 'misunderstanding', 'what', 'he', \"'s\", 'getting', 'at', ';', 'if', 'they', 'did', ',', 'it', 'would', 'interfere', 'with', 'their', 'emotional', 'involvement', '.', 'This', 'spectre', 'of', 'youth', 'haunts', 'Myrtle', ',', 'attacks', 'her', ',', 'and', 'wants', 'to', 'destroy', 'her', '.', 'Myrtle', 'eventually', '\"', 'kills', '\"', 'her', ',', 'but', 'before', 'she', 'can', 'really', 'come', 'to', 'terms', 'with', 'herself', 'and', 'the', 'play', ',', 'she', 'must', 'reach', 'bottom', '(', 'another', 'figurative', 'death', '?', ')', '.', 'So', 'Cassavettes', 'has', 'her', 'get', 'so', 'drunk', 'that', 'she', 'ca', \"n't\", 'walk', 'and', 'must', 'crawl', 'to', 'her', 'dressing', 'room', 'the', 'night', 'the', 'play', 'opens', 'on', 'Broadway', '.', 'She', 'resurrects', 'herself', '(', 'helping', 'yourself', 'out', 'of', 'such', 'situations', 'is', 'also', 'important', 'to', 'the', 'film', \"'s\", 'theme', ')', 'and', 'makes', 'the', 'play', 'a', 'success', 'by', 'giving', 'a', 'great', 'performance', 'and', 'changing', 'the', 'direction', 'of', 'play', 'for', 'the', 'better', 'by', 'improvising', 'so', 'that', 'it', 'contains', 'some', 'ray', 'of', 'hope', 'for', 'the', 'aging', 'character', 'she', \"'s\", 'playing', '.', 'These', 'scenes', 'are', 'funny', 'and', 'interesting', '.', 'Cassavettes', 'and', 'Rowlands', 'actually', 'did', 'the', 'play', 'in', 'front', 'of', 'live', 'audiences', ',', 'who', 'did', 'and', 'did', 'not', 'know', 'they', 'were', 'going', 'to', 'be', 'part', 'of', 'a', 'movie', '.', 'The', 'play', 'they', \"'re\", 'doing', 'also', 'acts', 'as', 'contrast', ':', 'it', \"'s\", 'mainstream', 'and', 'self', '-', 'serious', 'about', 'the', 'issues', 'it', 'addresses', ',', 'that', 'is', ',', 'until', 'Myrtle', 'changes', 'its', 'denouement', '.', 'In', 'doing', 'so', ',', 'she', 'also', 'improves', 'the', 'work', 'of', 'her', 'co', '-', 'stars', '.', 'The', 'natural', 'evolution', 'of', 'interaction', '(', 'achieved', 'through', 'improvisation)between', 'and', 'among', 'human', 'beings', ',', 'subjective', 'realism', ',', 'and', 'universal', 'truth', '-', 'these', 'were', 'Cassavettes', \"'s\", 'concerns', 'in', 'making', 'films', '.', '<', 'br', '/><br', '/>Gena', 'Rowlands', 'is', 'amazing', 'throughout', '.', 'Of', 'course', ',', 'she', 'has', 'that', 'great', 'face', ',', 'and', 'Cassavettes', '(', 'notoriously', 'in', 'love', 'with', 'her', 'throughout', 'their', 'marriage', ')', 'treats', 'us', 'to', 'numerous', 'closeups', 'of', 'it', 'so', 'that', 'we', 'too', 'can', 'feel', 'her', 'emotions', 'and', 'that', 'we', 'know', 'what', \"'s\", 'going', 'on', 'inside', 'of', 'her', '.', 'She', 'makes', 'you', 'care', 'so', 'much', 'about', 'this', 'character', 'that', 'you', 'want', 'to', 'see', 'her', 'work', 'her', 'way', 'out', 'of', 'this', 'crisis', 'of', 'the', 'soul', '.', 'And', 'this', 'is', 'what', 'holds', 'your', 'attention', 'for', 'the', '2', 'hours', 'and', '30', 'minutes', 'running', 'time', '.', 'The', 'film', 'is', 'deliberately', 'paced', 'at', 'times', 'and', 'requires', 'constant', 'attention', ',', 'but', 'anyone', 'with', 'interest', 'in', 'good', 'film', '-', 'making', 'and', 'great', 'acting', 'will', 'be', 'rewarded', '.', 'Someone', 'else', 'said', 'that', 'this', 'is', 'a', 'movie', 'for', 'people', 'who', 'love', 'movies', '.', 'All', 'others', 'be', 'forewarned', '.', '<', 'br', '/><br', '/>Seek', 'out', 'OPENING', 'NIGHT', 'if', 'you', \"'ve\", 'never', 'seen', 'it', '.', 'Everyone', 'in', 'it', 'is', 'excellent', ',', 'and', 'it', \"'s\", 'one', 'of', 'Cassavettes', \"'s\", 'best', 'films', '.'], 'label': 'pos'}\n"
          ],
          "name": "stdout"
        }
      ]
    },
    {
      "cell_type": "code",
      "metadata": {
        "id": "BufoUgSCkHRn"
      },
      "source": [
        "\n",
        "import random\n",
        "\n",
        "train_data, valid_data = train_data.split(random_state=random.seed(SEED))"
      ],
      "execution_count": null,
      "outputs": []
    },
    {
      "cell_type": "code",
      "metadata": {
        "id": "f7amSe4ikHRp"
      },
      "source": [
        "\n",
        "TEXT.build_vocab(train_data, max_size=25000)\n",
        "LABEL.build_vocab(train_data)"
      ],
      "execution_count": null,
      "outputs": []
    },
    {
      "cell_type": "code",
      "metadata": {
        "colab": {
          "base_uri": "https://localhost:8080/"
        },
        "id": "IWw3xa1gkHRr",
        "outputId": "199ff90c-d497-4010-820e-45946bf49b49"
      },
      "source": [
        "print(f\"Unique tokens in TEXT vocabulary: {len(TEXT.vocab)}\")\n",
        "print(f\"Unique tokens in LABEL vocabulary: {len(LABEL.vocab)}\")"
      ],
      "execution_count": null,
      "outputs": [
        {
          "output_type": "stream",
          "text": [
            "Unique tokens in TEXT vocabulary: 25002\n",
            "Unique tokens in LABEL vocabulary: 2\n"
          ],
          "name": "stdout"
        }
      ]
    },
    {
      "cell_type": "code",
      "metadata": {
        "colab": {
          "base_uri": "https://localhost:8080/"
        },
        "id": "Z-_ejTnFkHRx",
        "outputId": "bdb8cddf-67ae-4af8-bc68-0457619506d3"
      },
      "source": [
        "vars(LABEL.vocab)"
      ],
      "execution_count": null,
      "outputs": [
        {
          "output_type": "execute_result",
          "data": {
            "text/plain": [
              "{'freqs': Counter({'neg': 8810, 'pos': 8690}),\n",
              " 'itos': ['neg', 'pos'],\n",
              " 'stoi': defaultdict(<function torchtext.vocab._default_unk_index>,\n",
              "             {'neg': 0, 'pos': 1}),\n",
              " 'vectors': None}"
            ]
          },
          "metadata": {
            "tags": []
          },
          "execution_count": 166
        }
      ]
    },
    {
      "cell_type": "code",
      "metadata": {
        "colab": {
          "base_uri": "https://localhost:8080/"
        },
        "id": "qxMRpe-hkHRz",
        "outputId": "6feb65c2-6570-473e-bcc5-33df59412524"
      },
      "source": [
        "print(TEXT.vocab.freqs.most_common(20))"
      ],
      "execution_count": null,
      "outputs": [
        {
          "output_type": "stream",
          "text": [
            "[('the', 202671), (',', 193179), ('.', 166120), ('and', 109869), ('a', 109605), ('of', 100769), ('to', 94160), ('is', 76590), ('in', 61330), ('I', 54246), ('it', 53421), ('that', 49290), ('\"', 44711), (\"'s\", 43316), ('this', 42479), ('-', 37164), ('/><br', 35900), ('was', 34911), ('as', 30256), ('movie', 29908)]\n"
          ],
          "name": "stdout"
        }
      ]
    },
    {
      "cell_type": "markdown",
      "metadata": {
        "id": "1kPcwN6qkHR1"
      },
      "source": [
        "* stoi (string to int)\n",
        "* itos (int to string)"
      ]
    },
    {
      "cell_type": "code",
      "metadata": {
        "colab": {
          "base_uri": "https://localhost:8080/"
        },
        "id": "fVf_llCokHR2",
        "outputId": "34944638-a04b-4059-af05-0ec50e1b4cf4"
      },
      "source": [
        "print(TEXT.vocab.itos[:10])"
      ],
      "execution_count": null,
      "outputs": [
        {
          "output_type": "stream",
          "text": [
            "['<unk>', '<pad>', 'the', ',', '.', 'and', 'a', 'of', 'to', 'is']\n"
          ],
          "name": "stdout"
        }
      ]
    },
    {
      "cell_type": "code",
      "metadata": {
        "colab": {
          "base_uri": "https://localhost:8080/"
        },
        "id": "K430yfrfkHR3",
        "outputId": "c20fd9d9-2f4b-44ee-8ecb-7dca1ef9f954"
      },
      "source": [
        "print(LABEL.vocab.stoi)"
      ],
      "execution_count": null,
      "outputs": [
        {
          "output_type": "stream",
          "text": [
            "defaultdict(<function _default_unk_index at 0x7f09465de730>, {'neg': 0, 'pos': 1})\n"
          ],
          "name": "stdout"
        }
      ]
    },
    {
      "cell_type": "code",
      "metadata": {
        "id": "fXm0WdUXaeI3"
      },
      "source": [
        "BATCH_SIZE = 64\n",
        "\n",
        "device = torch.device('cuda' if torch.cuda.is_available() else 'cpu')\n",
        "split = data.BucketIterator.splits((train_data, valid_data, test_data),batch_size=BATCH_SIZE,\n",
        "                                    sort_within_batch=True,sort_key = lambda batch : len(batch.text),\n",
        "                                    device=device) "
      ],
      "execution_count": null,
      "outputs": []
    },
    {
      "cell_type": "code",
      "metadata": {
        "id": "qzyXSNLTkHR5"
      },
      "source": [
        "train_iterator, valid_iterator, test_iterator = split\n"
      ],
      "execution_count": null,
      "outputs": []
    },
    {
      "cell_type": "code",
      "metadata": {
        "id": "HrizbizOkHR_"
      },
      "source": [
        "\n",
        "class RNN(nn.Module):\n",
        "    def __init__(self, input_dim, embedding_dim, hidden_dim, output_dim):\n",
        "        super().__init__()\n",
        "        \n",
        "        self.embedding = nn.Embedding(input_dim, embedding_dim)\n",
        "        self.rnn = nn.RNN(embedding_dim, hidden_dim)\n",
        "        self.fc = nn.Linear(hidden_dim,output_dim)\n",
        "    \n",
        "\n",
        "    def forward(self,text, text_len):\n",
        "\n",
        "        embedded = self.embedding(text)\n",
        "        comp_output, hidden = self.rnn(pack_padded_sequence(embedded,text_len))\n",
        "        output, output_len = pad_packed_sequence(comp_output)\n",
        "        \n",
        "        return self.fc(hidden.squeeze(0))"
      ],
      "execution_count": null,
      "outputs": []
    },
    {
      "cell_type": "code",
      "metadata": {
        "id": "uXpSGbULYgCW"
      },
      "source": [
        "vocab = len(TEXT.vocab)\n",
        "embedding_dim = 100\n",
        "hidden_dim = 256\n",
        "output = 1\n",
        "model = RNN(vocab, embedding_dim, hidden_dim, output)"
      ],
      "execution_count": null,
      "outputs": []
    },
    {
      "cell_type": "code",
      "metadata": {
        "id": "ctEOkK-6kHSB"
      },
      "source": [
        "optimizer = optim.Adam(model.parameters(), lr=1e-3)\n",
        "criterion = nn.BCEWithLogitsLoss()\n",
        "model = model.to(device)\n",
        "criterion = criterion.to(device)\n"
      ],
      "execution_count": null,
      "outputs": []
    },
    {
      "cell_type": "code",
      "metadata": {
        "id": "LYuDRN-CY4FY"
      },
      "source": [
        "import numpy as np\n",
        "\n",
        "def scoring(y_pred, y):\n",
        "    y_pred = torch.round(torch.sigmoid(y_pred)) \n",
        "    return torch.mean((y_pred == y).float())\n",
        "\n",
        "def train(model, iter, optim, criterion):\n",
        "    \n",
        "    epoch_loss,epoch_acc = [0,0]\n",
        "    model.train()\n",
        "    \n",
        "    for batch in iter:\n",
        "        optim.zero_grad()\n",
        "\n",
        "        text, text_len = batch.text\n",
        "            \n",
        "        y_pred = model(text, text_len).squeeze(1)\n",
        "        y_true =  batch.label\n",
        "        \n",
        "        loss = criterion(y_pred, y_true)\n",
        "        acc = scoring(y_pred, y_true)\n",
        "        \n",
        "        loss.backward()\n",
        "        optimizer.step()\n",
        "        \n",
        "        epoch_loss += loss.item()\n",
        "        epoch_acc += acc.item()\n",
        "        \n",
        "    return epoch_loss / len(iter), epoch_acc / len(iter)\n",
        "\n"
      ],
      "execution_count": null,
      "outputs": []
    },
    {
      "cell_type": "code",
      "metadata": {
        "id": "v965I4_5aIUp"
      },
      "source": [
        "\n",
        "epoch = 4\n",
        "\n",
        "for _ in range(epoch):\n",
        "\n",
        "    train_loss, train_acc = train(model, train_iterator, optimizer, criterion)\n",
        "\n",
        "    print(f'| Epoch: {_+1:02} | Train Loss: {train_loss:.3f} | Train Acc: {train_acc*100:.2f}% |')"
      ],
      "execution_count": null,
      "outputs": []
    }
  ]
}